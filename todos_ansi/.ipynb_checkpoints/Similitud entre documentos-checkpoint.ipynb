{
 "cells": [
  {
   "cell_type": "code",
   "execution_count": 1,
   "metadata": {},
   "outputs": [],
   "source": [
    "from sklearn.feature_extraction.text import TfidfVectorizer\n",
    "from sklearn.metrics.pairwise import cosine_similarity\n",
    "import matplotlib.pyplot as plt\n",
    "import os\n",
    "import numpy as np\n",
    "from sklearn.feature_extraction.text import CountVectorizer\n",
    "from sklearn.metrics.pairwise import euclidean_distances\n",
    "from sklearn.manifold import MDS\n",
    "from mpl_toolkits.mplot3d import Axes3D\n",
    "from scipy.cluster.hierarchy import ward, dendrogram\n",
    "from sklearn import metrics\n",
    "from nltk.corpus import stopwords\n",
    "import math\n",
    "from sklearn import manifold\n",
    "import scipy"
   ]
  },
  {
   "cell_type": "code",
   "execution_count": 7,
   "metadata": {},
   "outputs": [
    {
     "name": "stdout",
     "output_type": "stream",
     "text": [
      "Programa que muestra ejemplos gráficos con Machine Learning\n",
      "Opciones:\n",
      "1.Impresión de similitud de documentos por método de coseno (Intersección de circunferencias)\n",
      "2.Clustering de distancia entre documntos\n",
      "3.Clustering de documentos en 3D\n",
      "4.Similitud entre documentos (Dibujar distancia entre ellos)\n"
     ]
    },
    {
     "name": "stdin",
     "output_type": "stream",
     "text": [
      " dos\n"
     ]
    },
    {
     "name": "stdout",
     "output_type": "stream",
     "text": [
      "Corroborar tamaño de la matriz Documentos vs Términos\n",
      "(9, 5477)\n",
      "Obteniendo similitud de coseno entre 2 documentos (si son iguales el valor es 1)\n",
      "[[0.98249916]]\n",
      "Cálculo de distancia\n",
      "[[0.01750084]]\n",
      "Ángulo de separación de los documentos (grados)\n",
      "10.735009790376333\n",
      "Área de gráficos\n",
      "Inicio\n",
      "Clustering de distancia entre documentos\n"
     ]
    },
    {
     "data": {
      "image/png": "[encoded data removed]",
      "text/plain": [
       "<Figure size 720x432 with 1 Axes>"
      ]
     },
     "metadata": {
      "needs_background": "light"
     },
     "output_type": "display_data"
    },
    {
     "name": "stdout",
     "output_type": "stream",
     "text": [
      "Fin\n"
     ]
    }
   ],
   "source": [
    "def ejecutarPrograma(opcion):\n",
    "   \n",
    "   '''\n",
    "   Pasar archivos a una lista\n",
    "   '''\n",
    "   path='C:/Users/Armando/Desktop/todos_ansi'\n",
    "   documents = [] #los ordena por nombre\n",
    "   titles=[]\n",
    "   dirs = os.listdir(path)\n",
    "   for doc in dirs:\n",
    "       if doc.endswith('.txt'):\n",
    "           titles.append(doc)\n",
    "           f=open(os.path.join(path,doc),'r')\n",
    "           words = f.read()\n",
    "           documents.append(words)\n",
    "           f.close()\n",
    "\n",
    "\n",
    "   #Genera stopwords\n",
    "   sw=stopwords.words('spanish')\n",
    "\n",
    "\n",
    "   #Crea los vectores ya sin stopwords y genera matriz tf-idf\n",
    "   tfidf_vectorizer = TfidfVectorizer(sw)\n",
    "   tfidf_matrix = tfidf_vectorizer.fit_transform(documents)\n",
    "\n",
    "   #Se crea diccionario\n",
    "   diccionario = tfidf_vectorizer.get_feature_names()\n",
    "\n",
    "   print\n",
    "   print ('Corroborar tamaño de la matriz Documentos vs Términos')\n",
    "   print (tfidf_matrix.shape)\n",
    "   print\n",
    "\n",
    "\n",
    "   print\n",
    "   print ('Obteniendo similitud de coseno entre 2 documentos (si son iguales el valor es 1)')\n",
    "   cosine=cosine_similarity(tfidf_matrix[1], tfidf_matrix[2])\n",
    "   print (cosine)\n",
    "   print ('Cálculo de distancia')\n",
    "   dist = 1 - cosine\n",
    "   print (dist)\n",
    "   print\n",
    "   print ('Ángulo de separación de los documentos (grados)')\n",
    "   angle_in_radians = math.acos(cosine)\n",
    "   print (math.degrees(angle_in_radians))\n",
    "   print\n",
    "   print ('Área de gráficos')\n",
    "   \n",
    "   plt.figure(figsize=(10,6)) #tamaño del gráfico ancho, alto\n",
    "   dist = 1 - cosine_similarity(tfidf_matrix)\n",
    "   np.round(dist, 2)\n",
    "   if opcion==\"uno\":\n",
    "       print ('Inicio')\n",
    "       print ('Impresión de similitud de documentos por método de coseno')\n",
    "       r = 1\n",
    "       d = 2 * r * (1 - cosine)\n",
    "       circle1=plt.Circle((0, 0), r, alpha=.5)\n",
    "       circle2=plt.Circle((d, 0), r, alpha=.5)\n",
    "       ## set axis limits\n",
    "       plt.ylim([-1.1, 1.1])\n",
    "       plt.xlim([-1.1, 1.1 + d])\n",
    "       fig = plt.gcf()\n",
    "       fig.gca().add_artist(circle1)\n",
    "       fig.gca().add_artist(circle2)\n",
    "       print ('Fin')\n",
    "   elif opcion==\"dos\":\n",
    "       print ('Inicio')\n",
    "       print ('Clustering de distancia entre documentos')\n",
    "       mds = MDS(n_components=2, dissimilarity=\"precomputed\", random_state=1)\n",
    "       pos = mds.fit_transform(dist)  # shape (n_components, n_samples)\n",
    "       xs, ys = pos[:, 0], pos[:, 1]\n",
    "       names = [os.path.basename(fn).replace('.txt', '') for fn in titles]\n",
    "       # color-blind-friendly palette\n",
    "       for x, y, name in zip(xs, ys, names):\n",
    "          color = 'orange' if \"d1\" in name else 'blue'\n",
    "          plt.scatter(x, y, c=color)\n",
    "          plt.text(x, y, name)\n",
    "       plt.show()\n",
    "       print ('Fin')\n",
    "   elif opcion==\"tres\":\n",
    "       print ('Inicio')\n",
    "       print ('Clustering de documentos en 3D')\n",
    "       mds = MDS(n_components=3, dissimilarity=\"precomputed\", random_state=1)\n",
    "       pos = mds.fit_transform(dist)       \n",
    "       fig = plt.figure()\n",
    "       ax = fig.add_subplot(111, projection='3d')\n",
    "       ax.scatter(pos[:, 0], pos[:, 1], pos[:, 2])\n",
    "       for x, y, z, s in zip(pos[:, 0], pos[:, 1], pos[:, 2], titles):\n",
    "           ax.text(x, y, z, s)\n",
    "       plt.show()\n",
    "       print ('Fin')\n",
    "   else:\n",
    "       print ('Similitud entre documentos (Dibujar distancia entre ellos)')\n",
    "       print ('Inicio')\n",
    "       linkage_matrix = ward(dist)\n",
    "       dendrogram(linkage_matrix, orientation=\"right\", labels=titles)\n",
    "       plt.tight_layout()\n",
    "       plt.show()\n",
    "       print ('Fin')\n",
    "\n",
    "\n",
    "print ('Programa que muestra ejemplos gráficos con Machine Learning')\n",
    "print ('Opciones:')\n",
    "print ('1.Impresión de similitud de documentos por método de coseno (Intersección de circunferencias)')\n",
    "print ('2.Clustering de distancia entre documntos')\n",
    "print ('3.Clustering de documentos en 3D')\n",
    "print ('4.Similitud entre documentos (Dibujar distancia entre ellos)')\n",
    "opcion=input()\n",
    "\n",
    "ejecutarPrograma(opcion)"
   ]
  },
  {
   "cell_type": "code",
   "execution_count": 66,
   "metadata": {},
   "outputs": [],
   "source": [
    "   path='C:/Users/Armando/Desktop/todos_ansi'\n",
    "   documents = []\n",
    "   titles=[]\n",
    "   dirs = os.listdir(path)\n",
    "   for doc in dirs:\n",
    "       if doc.endswith('.txt'):\n",
    "           titles.append(doc)\n",
    "           f=open(os.path.join(path,doc),'r')\n",
    "           words = f.read()\n",
    "           documents.append(words)\n",
    "           f.close()"
   ]
  },
  {
   "cell_type": "code",
   "execution_count": 67,
   "metadata": {},
   "outputs": [
    {
     "data": {
      "text/plain": [
       "'No es la primera vez (ni será la última) que hablamos del archiconocido Python, y no es para menos. Python es uno de los lenguajes de programación más populares y usados del planeta, y como cada lenguaje tiene su propia estructura y codificación hoy hablaremos de la sintaxis en Python. ¡Toma nota y conoce Python a fondo para convertirte en un programador de primera!\\n\\n \\n\\nPython\\nPython es un lenguaje de programación interpretado cuya filosofía hace hincapié en la legibilidad de su código. Podríamos decir que es un lenguaje de programación multiparadigma orientado a objetos, programación imperativa y programación funcional. Es un lenguaje interpretado, dinámico y multiplataforma.\\n\\nPython debe su popularidad a sus múltiples posibilidades y a su facilidad para aprender a programar.\\n\\n \\n\\nLa sintaxis de Python\\nNadie nace aprendido, y como en cualquier otro lenguaje, en Python es necesario empezar de menos a más, de poquito a poco para conocer a fondo su sintaxis y funcionamiento, llegando a comprender y manejar a las mil maravillas este lenguaje de programación.\\n\\nVamos a analizar su sintaxis básica, recuerda que Python ofrece sencillez y claridad para que no nos hagamos líos y cualquier programador primerizo pueda utilizarlo sin grandes complicaciones.\\n\\nCuando hablamos de la sintaxis en Python nos referimos como en todo lenguaje al correcto uso y orden de las palabras que utilizamos para comunicarnos. Por ello, en Python también es necesario cumplir ciertos requisitos a la hora de expresarnos.\\n\\nDe esta manera, se evitan errores de comprensión del intérprete, así que lo primero es aprender ciertas palabras en inglés, su significado y el uso adecuado dentro del lenguaje.\\n\\n \\n\\nModo interactivo y modo script\\nAl iniciarnos en Python podemos trabajar de dos formas, mediante el modo interactivo, ejecutando la orden en tiempo real; y en modo script escribiendo el código en Python y ejecutando después con el intérprete.\\n\\nLa sintaxis en Python nos permite usar el modo interactivo activando el intérprete Python y escribiendo python en la línea de comandos. Una vez puesto en marcha, ya podemos ejecutar órdenes sin ningún problema.\\n\\nUna vez ya hayamos empezado a programar con Python resultará mucho más sencillo utilizar un script con todas las órdenes a ejecutar. Así, una vez situada la línea de comandos en la carpeta donde se encuentra el script, lo ejecutamos con la orden python nombredelscript.py.\\n\\n \\n\\nIdentificadores Python\\nParte esencial de la sintaxis en Python son los identificadores, que sirven para identificar una variable, función, clase, módulo u objeto. Habitualmente los identificadores empiezan con letras, en mayúscula o minúscula, o con un guión bajo seguido de un cero y varias letras o números.\\n\\nRecuerda que…\\n\\nPython diferencia entre mayúsculas y minúsculas y no admite caracteres de puntuación como @, $ o %.\\n\\nAnalizando en profundidad la sintaxis en Python, recordamos y recalcamos que los nombres de clase empiezan con una letra mayúscula mientras que el resto de identificadores empiezan con minúscula.\\n\\nEn caso de que el identificador empiece con un guión bajo o con dos guiones bajos, significa que es privado. Si el identificador finaliza con dos guiones bajos, el identificador es un nombre especial definido por lenguaje.\\n\\n \\n\\nPalabras\\n¿Conoces algún lenguaje en el que existan palabras “prohibidas”? Bien, pues ya conoces al primero. La sintaxis en Python determina que hay una serie de palabras que no podemos emplear como constantes o variables o como nombre identificador. Son todas en minúsculas y han sido reservadas por el lenguaje Python.\\n\\nLas palabras reservadas son: and, assert, break, class, continue, def, del, elif, else, except, exec, finally, for, from, global, if, imoort, in, is, lambda, not, or, pass, print, raise, return, try, while, with, yield.\\n\\n \\n\\nInstrucciones\\nUna instrucción en Python es un conjunto de datos insertados en una secuencia estructurada para ordenar al intérprete realizar una operación determinada.\\n\\nInstrucciones simples\\nSon aquellas órdenes que python comprende respetando su sintaxis que comienzan y culminan en una sola línea.\\n\\nInstrucciones compuestas\\nSon aquellas que python comprende respetando su sintaxis comenzando con una cláusula de sentencia compuesta y terminando con «:»  continuan debajo con una identación conformando así un bloque de código.\\n\\n \\n\\nEstructura\\nSi vamos más allá y nos centramos en la estructura de Python, has de saber que un programa codificado con lenguaje Python está dividido en varias líneas lógicas y cada una de ellas finaliza con una nueva línea.\\n\\n¿Sabías que…?\\n\\nSi la línea está en blanco, es ignorada por el intérprete de Python.\\n\\nÓrdenes y líneas se agrupan unas dentro de otras mediante sangrado o espaciado. Si lo que quieres es unir dos o más líneas, debes utilizar la barra inclinada hacia la izquierda. Para realizar varias acciones o peticiones en una única línea con Python podemos combinar todas las instancias empleando como separador el símbolo de punto y coma.\\n\\n \\n\\nComentarios\\nLa sintaxis en Python determina que los comentarios empiezan con el carácter hash (#). Además, pueden incluirse en una línea propia o al lado de una orden.\\n\\nSiempre que tenga el símbolo indicado, Python lo interpretará como comentario y no como código válido.\\n\\nSi de lo que hablamos es de citas, el lenguaje de programación Python admite las comillas simples o dobles. El texto incluido dentro de las comillas será el que se mostrará en pantalla o el que se tendrá en cuenta para la orden programada.\\n\\nPero…\\n\\nsi lo que vamos a citar es un texto extenso, tendremos que echar mano de las triples comillas, que permiten citar textos amplios.\\n\\n \\n\\n¡Aprende a programar en Python!\\nPiensa que todos hemos sido principiantes o hemos empezado de cero al iniciar cualquier proyecto, por lo que no creas que esta es una misión imposible. Podrás dominar a la perfección la sintaxis en Python y hablarlo casi como lengua nativa, para ello Tokio tiene una plaza para ti en nuestro Curso de Programador Python. ¡No esperes más y llámanos!\\n\\n'"
      ]
     },
     "execution_count": 67,
     "metadata": {},
     "output_type": "execute_result"
    }
   ],
   "source": [
    "documents[8]"
   ]
  },
  {
   "cell_type": "code",
   "execution_count": null,
   "metadata": {},
   "outputs": [],
   "source": []
  }
 ],
 "metadata": {
  "kernelspec": {
   "display_name": "Python 3",
   "language": "python",
   "name": "python3"
  },
  "language_info": {
   "codemirror_mode": {
    "name": "ipython",
    "version": 3
   },
   "file_extension": ".py",
   "mimetype": "text/x-python",
   "name": "python",
   "nbconvert_exporter": "python",
   "pygments_lexer": "ipython3",
   "version": "3.7.6"
  }
 },
 "nbformat": 4,
 "nbformat_minor": 4
}
